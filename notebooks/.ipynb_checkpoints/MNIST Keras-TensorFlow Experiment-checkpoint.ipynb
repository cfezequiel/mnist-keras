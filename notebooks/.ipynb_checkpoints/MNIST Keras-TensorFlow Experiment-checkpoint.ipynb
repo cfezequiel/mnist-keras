{
 "cells": [
  {
   "cell_type": "code",
   "execution_count": 16,
   "metadata": {},
   "outputs": [],
   "source": [
    "# Reference: https://github.com/keras-team/keras/blob/master/examples/mnist_cnn.py"
   ]
  },
  {
   "cell_type": "code",
   "execution_count": 17,
   "metadata": {},
   "outputs": [],
   "source": [
    "from __future__ import print_function\n",
    "\n",
    "import tensorflow as tf\n",
    "import keras\n",
    "from keras.datasets import mnist"
   ]
  },
  {
   "cell_type": "code",
   "execution_count": 18,
   "metadata": {},
   "outputs": [],
   "source": [
    "# Params\n",
    "BATCH_SIZE = 128\n",
    "NUM_CLASSES = 10\n",
    "EPOCHS = 12\n",
    "IMG_ROWS, IMG_COLS = 28, 28\n",
    "IMG_MAX_VAL = 255 \n",
    "INPUT_SHAPE = (IMG_ROWS, IMG_COLS, 1)\n",
    "STEPS = EPOCHS"
   ]
  },
  {
   "cell_type": "code",
   "execution_count": 19,
   "metadata": {},
   "outputs": [],
   "source": [
    "# Input data\n",
    "(x_train, y_train), (x_test, y_test) = mnist.load_data()"
   ]
  },
  {
   "cell_type": "code",
   "execution_count": 20,
   "metadata": {},
   "outputs": [
    {
     "name": "stdout",
     "output_type": "stream",
     "text": [
      "x_train shape: (60000, 28, 28, 1)\n",
      "x_test shape: (10000, 28, 28, 1)\n",
      "60000 train samples\n",
      "10000 test samples\n"
     ]
    }
   ],
   "source": [
    "# Preprocess features\n",
    "def _preprocess_features(x):\n",
    "    x = x.reshape(x.shape[0], IMG_ROWS, IMG_COLS, 1)\n",
    "    x = x.astype('float32')\n",
    "    x /= IMG_MAX_VAL\n",
    "    return x\n",
    "\n",
    "x_train = _preprocess_features(x_train)\n",
    "x_test = _preprocess_features(x_test)\n",
    "print('x_train shape:', x_train.shape)\n",
    "print('x_test shape:', x_test.shape)\n",
    "print(x_train.shape[0], 'train samples')\n",
    "print(x_test.shape[0], 'test samples')"
   ]
  },
  {
   "cell_type": "code",
   "execution_count": 21,
   "metadata": {},
   "outputs": [
    {
     "name": "stdout",
     "output_type": "stream",
     "text": [
      "y_train shape: (60000, 10)\n",
      "y_test shape: (10000, 10)\n",
      "60000 train samples\n",
      "10000 test samples\n"
     ]
    }
   ],
   "source": [
    "# Preprocess labels\n",
    "def _preprocess_labels(y, num_classes):\n",
    "    \"\"\"Preprocess label vector\"\"\"\n",
    "    \n",
    "    # One-hot encode labels based on num_classes\n",
    "    return keras.utils.to_categorical(y, num_classes)\n",
    "\n",
    "\n",
    "y_train = _preprocess_labels(y_train, NUM_CLASSES)\n",
    "y_test = _preprocess_labels(y_test, NUM_CLASSES)\n",
    "print('y_train shape:', y_train.shape)\n",
    "print('y_test shape:', y_test.shape)\n",
    "print(y_train.shape[0], 'train samples')\n",
    "print(y_test.shape[0], 'test samples')"
   ]
  },
  {
   "cell_type": "code",
   "execution_count": 22,
   "metadata": {},
   "outputs": [],
   "source": [
    "# Input function\n",
    "def make_input_fn(features, labels=None, shuffle=False):\n",
    "    input_fn = tf.estimator.inputs.numpy_input_fn(\n",
    "        x={'images_input': features},\n",
    "        y=labels,\n",
    "        shuffle=shuffle\n",
    "    )\n",
    "    return input_fn"
   ]
  },
  {
   "cell_type": "code",
   "execution_count": 23,
   "metadata": {},
   "outputs": [],
   "source": [
    "# Build Keras model\n",
    "\n",
    "model = tf.keras.models.Sequential()\n",
    "model.add(tf.keras.layers.Conv2D(32, kernel_size=(3, 3), activation='relu', input_shape=INPUT_SHAPE, name='images'))\n",
    "model.add(tf.keras.layers.Conv2D(64, kernel_size=(3, 3), activation='relu'))\n",
    "model.add(tf.keras.layers.MaxPooling2D(pool_size=(2, 2)))\n",
    "model.add(tf.keras.layers.Dropout(0.25))\n",
    "model.add(tf.keras.layers.Flatten())\n",
    "model.add(tf.keras.layers.Dense(128, activation='relu'))\n",
    "model.add(tf.keras.layers.Dropout(0.5))\n",
    "model.add(tf.keras.layers.Dense(NUM_CLASSES, activation='softmax', name='labels'))\n",
    "model.compile(loss='categorical_crossentropy', optimizer='adadelta', metrics=['accuracy'])"
   ]
  },
  {
   "cell_type": "code",
   "execution_count": 24,
   "metadata": {},
   "outputs": [
    {
     "name": "stdout",
     "output_type": "stream",
     "text": [
      "INFO:tensorflow:Using the Keras model from memory.\n",
      "INFO:tensorflow:Using default config.\n",
      "WARNING:tensorflow:Using temporary folder as model directory: /tmp/tmp99sxCu\n",
      "INFO:tensorflow:Using config: {'_save_checkpoints_secs': 600, '_session_config': None, '_keep_checkpoint_max': 5, '_task_type': 'worker', '_global_id_in_cluster': 0, '_is_chief': True, '_cluster_spec': <tensorflow.python.training.server_lib.ClusterSpec object at 0x7f58cb9ee490>, '_evaluation_master': '', '_save_checkpoints_steps': None, '_keep_checkpoint_every_n_hours': 10000, '_service': None, '_num_ps_replicas': 0, '_tf_random_seed': None, '_master': '', '_num_worker_replicas': 1, '_task_id': 0, '_log_step_count_steps': 100, '_model_dir': '/tmp/tmp99sxCu', '_save_summary_steps': 100}\n",
      "<tensorflow.python.estimator.estimator.Estimator object at 0x7f5944e84fd0>\n"
     ]
    }
   ],
   "source": [
    "# Convert Keras model to TensorFlow estimator\n",
    "estimator_model = tf.keras.estimator.model_to_estimator(keras_model=model)\n",
    "print(estimator_model)"
   ]
  },
  {
   "cell_type": "code",
   "execution_count": 25,
   "metadata": {},
   "outputs": [],
   "source": [
    "# Build train and evaluate spec (with serving function)\n",
    "train_input_fn = make_input_fn(x_train, y_train, shuffle=False)\n",
    "train_spec = tf.estimator.TrainSpec(train_input_fn, max_steps=STEPS)\n",
    "\n",
    "def json_serving_input_fn():\n",
    "    images_input = tf.placeholder(shape=[None, IMG_ROWS, IMG_COLS, 1], dtype=tf.float32)\n",
    "    inputs = {'images_input': images_input}\n",
    "    return tf.estimator.export.ServingInputReceiver(inputs, inputs)\n",
    "    \n",
    "exporter = tf.estimator.FinalExporter('mnist', json_serving_input_fn)\n",
    "\n",
    "eval_input_fn = make_input_fn(x_test, y_test)\n",
    "eval_spec = tf.estimator.EvalSpec(eval_input_fn, steps=STEPS, exporters=[exporter])"
   ]
  },
  {
   "cell_type": "code",
   "execution_count": 26,
   "metadata": {},
   "outputs": [
    {
     "name": "stdout",
     "output_type": "stream",
     "text": [
      "INFO:tensorflow:Running training and evaluation locally (non-distributed).\n",
      "INFO:tensorflow:Start train and evaluate loop. The evaluate will happen after 600 secs (eval_spec.throttle_secs) or training is finished.\n",
      "INFO:tensorflow:Calling model_fn.\n",
      "INFO:tensorflow:Done calling model_fn.\n",
      "INFO:tensorflow:Create CheckpointSaverHook.\n",
      "INFO:tensorflow:Graph was finalized.\n",
      "INFO:tensorflow:Restoring parameters from /tmp/tmp99sxCu/keras_model.ckpt\n",
      "INFO:tensorflow:Running local_init_op.\n",
      "INFO:tensorflow:Done running local_init_op.\n",
      "INFO:tensorflow:Saving checkpoints for 1 into /tmp/tmp99sxCu/model.ckpt.\n",
      "INFO:tensorflow:loss = 2.3127413, step = 1\n",
      "INFO:tensorflow:Saving checkpoints for 12 into /tmp/tmp99sxCu/model.ckpt.\n",
      "INFO:tensorflow:Loss for final step: 1.2030113.\n",
      "INFO:tensorflow:Calling model_fn.\n",
      "INFO:tensorflow:Done calling model_fn.\n",
      "INFO:tensorflow:Starting evaluation at 2018-03-21-20:20:24\n",
      "INFO:tensorflow:Graph was finalized.\n",
      "INFO:tensorflow:Restoring parameters from /tmp/tmp99sxCu/model.ckpt-12\n",
      "INFO:tensorflow:Running local_init_op.\n",
      "INFO:tensorflow:Done running local_init_op.\n",
      "INFO:tensorflow:Evaluation [1/12]\n",
      "INFO:tensorflow:Evaluation [2/12]\n",
      "INFO:tensorflow:Evaluation [3/12]\n",
      "INFO:tensorflow:Evaluation [4/12]\n",
      "INFO:tensorflow:Evaluation [5/12]\n",
      "INFO:tensorflow:Evaluation [6/12]\n",
      "INFO:tensorflow:Evaluation [7/12]\n",
      "INFO:tensorflow:Evaluation [8/12]\n",
      "INFO:tensorflow:Evaluation [9/12]\n",
      "INFO:tensorflow:Evaluation [10/12]\n",
      "INFO:tensorflow:Evaluation [11/12]\n",
      "INFO:tensorflow:Evaluation [12/12]\n",
      "INFO:tensorflow:Finished evaluation at 2018-03-21-20:20:25\n",
      "INFO:tensorflow:Saving dict for global step 12: accuracy = 0.71744794, global_step = 12, loss = 0.9609155\n",
      "INFO:tensorflow:Performing the final export in the end of training.\n",
      "INFO:tensorflow:Calling model_fn.\n",
      "INFO:tensorflow:Done calling model_fn.\n",
      "INFO:tensorflow:Signatures INCLUDED in export for Classify: None\n",
      "INFO:tensorflow:Signatures INCLUDED in export for Regress: None\n",
      "INFO:tensorflow:Signatures INCLUDED in export for Predict: ['serving_default']\n",
      "INFO:tensorflow:Restoring parameters from /tmp/tmp99sxCu/model.ckpt-12\n",
      "INFO:tensorflow:Assets added to graph.\n",
      "INFO:tensorflow:No assets to write.\n",
      "INFO:tensorflow:SavedModel written to: /tmp/tmp99sxCu/export/mnist/temp-1521663625/saved_model.pb\n"
     ]
    }
   ],
   "source": [
    "# Train and evaluate model\n",
    "tf.estimator.train_and_evaluate(estimator_model, train_spec, eval_spec)"
   ]
  },
  {
   "cell_type": "code",
   "execution_count": 28,
   "metadata": {},
   "outputs": [
    {
     "name": "stdout",
     "output_type": "stream",
     "text": [
      "(60000, 28, 28, 1)\n"
     ]
    }
   ],
   "source": [
    "print(x_train.shape)"
   ]
  },
  {
   "cell_type": "code",
   "execution_count": 29,
   "metadata": {},
   "outputs": [
    {
     "name": "stdout",
     "output_type": "stream",
     "text": [
      "(10000, 28, 28, 1)\n"
     ]
    }
   ],
   "source": [
    "print(x_test.shape)"
   ]
  },
  {
   "cell_type": "code",
   "execution_count": null,
   "metadata": {},
   "outputs": [],
   "source": []
  }
 ],
 "metadata": {
  "kernelspec": {
   "display_name": "Python 2",
   "language": "python",
   "name": "python2"
  },
  "language_info": {
   "codemirror_mode": {
    "name": "ipython",
    "version": 2
   },
   "file_extension": ".py",
   "mimetype": "text/x-python",
   "name": "python",
   "nbconvert_exporter": "python",
   "pygments_lexer": "ipython2",
   "version": "2.7.13"
  }
 },
 "nbformat": 4,
 "nbformat_minor": 2
}
